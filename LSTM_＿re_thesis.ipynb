{
  "cells": [
    {
      "cell_type": "code",
      "source": [
        "import numpy as np\n",
        "import matplotlib.pyplot as plt\n",
        "import math\n",
        "from sklearn.preprocessing import MinMaxScaler\n",
        "from sklearn.metrics import mean_squared_error\n",
        "from IPython.display import SVG\n",
        "from keras.utils.vis_utils import model_to_dot\n",
        "from google.colab import drive\n",
        "from array import array\n",
        "import pandas as pd\n",
        "import os\n",
        "import seaborn as sns\n",
        "drive.mount('/content/gdrive') # 此處需要登入google帳號\n",
        "data = pd.read_csv(\"/content/gdrive/My Drive/thesis/thesisdataset/millan_average13_629_final.csv\")\n",
        "data.shape"
      ],
      "metadata": {
        "id": "Wyy2coBo9FB4"
      },
      "execution_count": null,
      "outputs": []
    },
    {
      "cell_type": "code",
      "source": [
        "data2 = pd.read_csv(\"/content/gdrive/My Drive/thesis/thesisdataset/taiwan_average37_83_final.csv\")\n",
        "data2.shape"
      ],
      "metadata": {
        "id": "CYgUDgxC9GIL"
      },
      "execution_count": null,
      "outputs": []
    },
    {
      "cell_type": "code",
      "source": [
        "data3 = pd.read_csv(\"/content/gdrive/My Drive/thesis/thesisdataset/finland_average_47_786_final.csv\")\n",
        "data3.shape"
      ],
      "metadata": {
        "id": "O3t5k8QM9HW3"
      },
      "execution_count": null,
      "outputs": []
    },
    {
      "cell_type": "code",
      "source": [
        "!nvidia-smi"
      ],
      "metadata": {
        "id": "Xyy2jeUp9I85"
      },
      "execution_count": null,
      "outputs": []
    },
    {
      "cell_type": "code",
      "execution_count": null,
      "metadata": {
        "id": "-G6HNxymideM"
      },
      "outputs": [],
      "source": [
        "df = pd.DataFrame(data)\n",
        "dataset = df.internet.values.astype(float)"
      ]
    },
    {
      "cell_type": "code",
      "execution_count": null,
      "metadata": {
        "id": "dIFXDSJn4OR_"
      },
      "outputs": [],
      "source": [
        "df2 = pd.DataFrame(data2)\n",
        "dataset2 = df2.load.values.astype(float)"
      ]
    },
    {
      "cell_type": "code",
      "source": [
        "df3 = pd.DataFrame(data3)\n",
        "dataset3 = df3.Internet.values.astype(float)"
      ],
      "metadata": {
        "id": "gNfgwNtVdVgP"
      },
      "execution_count": null,
      "outputs": []
    },
    {
      "cell_type": "code",
      "execution_count": null,
      "metadata": {
        "id": "by9uRhPK4XYy"
      },
      "outputs": [],
      "source": [
        "dataset1000=np.append(dataset2, dataset3)\n",
        "dataset1000=np.append(dataset1000, dataset)"
      ]
    },
    {
      "cell_type": "code",
      "source": [
        "dataset1000.shape"
      ],
      "metadata": {
        "id": "5PGEy-kL9L0g"
      },
      "execution_count": null,
      "outputs": []
    },
    {
      "cell_type": "code",
      "source": [
        "dataset1000"
      ],
      "metadata": {
        "id": "0ZZQYo8X9NTk"
      },
      "execution_count": null,
      "outputs": []
    },
    {
      "cell_type": "code",
      "source": [
        "dataset1000=dataset1000.reshape(-1,1)"
      ],
      "metadata": {
        "id": "BvAYAaiW9Rfx"
      },
      "execution_count": null,
      "outputs": []
    },
    {
      "cell_type": "code",
      "source": [
        "dataset1000.shape"
      ],
      "metadata": {
        "id": "bJeAaf2y9R_i"
      },
      "execution_count": null,
      "outputs": []
    },
    {
      "cell_type": "code",
      "execution_count": null,
      "metadata": {
        "id": "e44j-Ux74Mgp"
      },
      "outputs": [],
      "source": [
        "import numpy as np\n",
        "import matplotlib.pyplot as plt\n",
        "import pandas as pd\n",
        "import torch\n",
        "import torch.nn as nn\n",
        "from torch.autograd import Variable\n",
        "from sklearn.preprocessing import MinMaxScaler\n",
        "def sliding_windows(data, seq_length):\n",
        "    x = []\n",
        "    y = []\n",
        "\n",
        "    for i in range(len(data)-1):\n",
        "        _x = data[i:(i+seq_length)]\n",
        "        _y = data[i+seq_length]\n",
        "        x.append(_x)\n",
        "        y.append(_y)\n",
        "\n",
        "    return np.array(x),np.array(y)\n",
        "\n",
        "sc = MinMaxScaler()\n",
        "dataset1000 = sc.fit_transform(dataset1000)\n",
        "\n",
        "seq_length = 1\n",
        "x, y = sliding_windows(dataset1000, seq_length)\n",
        "train_size = 1516090\n",
        "# # test_size = 898761\n",
        "#train_size = int(len(y) * 0.7)\n",
        "test_size = len(y) - train_size\n",
        "\n",
        "dataX = Variable(torch.Tensor(np.array(x)))\n",
        "dataY = Variable(torch.Tensor(np.array(y)))\n",
        "\n",
        "trainX = Variable(torch.Tensor(np.array(x[0:train_size])))\n",
        "trainY = Variable(torch.Tensor(np.array(y[0:train_size])))\n",
        "\n",
        "testX = Variable(torch.Tensor(np.array(x[train_size:len(x)])))\n",
        "testY = Variable(torch.Tensor(np.array(y[train_size:len(y)])))"
      ]
    },
    {
      "cell_type": "code",
      "execution_count": null,
      "metadata": {
        "id": "RS9DffJfuih-"
      },
      "outputs": [],
      "source": [
        "print(trainX.shape)\n",
        "print(trainY.shape)\n",
        "print(testX.shape)\n",
        "print(testY.shape)"
      ]
    },
    {
      "cell_type": "code",
      "execution_count": null,
      "metadata": {
        "id": "hXz37vSL5m9E"
      },
      "outputs": [],
      "source": [
        "class LSTM(nn.Module):\n",
        "\n",
        "    def __init__(self, input_dim, hidden_dim, layer_dim, output_dim,dropout_prob):\n",
        "        super(LSTM, self).__init__()\n",
        "        \n",
        "        self.hidden_dim = hidden_dim\n",
        "        self.layer_dim = layer_dim\n",
        "        \n",
        "        self.lstm = nn.LSTM(input_dim, hidden_dim, layer_dim, batch_first=True,dropout=dropout_prob\n",
        "        )\n",
        "        \n",
        "        self.fc = nn.Linear(hidden_dim, output_dim)\n",
        "\n",
        "    def forward(self, x):\n",
        "        h_0 = Variable(torch.zeros(\n",
        "            self.layer_dim, x.size(0), self.hidden_dim))\n",
        "        \n",
        "        c_0 = Variable(torch.zeros(\n",
        "            self.layer_dim, x.size(0), self.hidden_dim))\n",
        "        \n",
        "        # Propagate input through LSTM\n",
        "        ula, (h_out, _) = self.lstm(x, (h_0, c_0))\n",
        "        \n",
        "        h_out = h_out.view(-1, self.hidden_dim)\n",
        "        \n",
        "        out = self.fc(h_out)\n",
        "        \n",
        "        return out"
      ]
    },
    {
      "cell_type": "code",
      "source": [
        "\n",
        "import torch\n",
        "torch.manual_seed(5)\n",
        "import torch\n",
        "import numpy as np\n",
        "import random\n",
        "\n",
        "seed=5\n",
        "\n",
        "random.seed(seed)\n",
        "np.random.seed(seed)\n",
        "if torch.cuda.is_available():\n",
        "    torch.cuda.manual_seed_all(seed)\n",
        "\n",
        "torch.manual_seed(seed)\n",
        "torch.cuda.manual_seed(seed)\n",
        "torch.cuda.manual_seed_all(seed)\n",
        "\n",
        "# Remove randomness (may be slower on Tesla GPUs) \n",
        "# https://pytorch.org/docs/stable/notes/randomness.html\n",
        "if seed == 5:\n",
        "    torch.backends.cudnn.deterministic = True\n",
        "    torch.backends.cudnn.benchmark = False"
      ],
      "metadata": {
        "id": "6fvxp3LM9gwl"
      },
      "execution_count": null,
      "outputs": []
    },
    {
      "cell_type": "code",
      "source": [
        "\n",
        "num_epochs = 1000\n",
        "learning_rate = 0.01\n",
        "input_dim = 1\n",
        "hidden_dim = 2\n",
        "layer_dim = 1  # ONLY CHANGE IS HERE FROM ONE LAYER TO TWO LAYER\n",
        "output_dim = 1\n",
        "dropout = 0.1\n",
        "\n",
        "lstm = LSTM(input_dim, hidden_dim, layer_dim, output_dim,dropout)\n",
        "\n",
        "criterion = torch.nn.MSELoss()    # mean-squared error for regression\n",
        "optimizer = torch.optim.Adam(lstm.parameters(), lr=learning_rate)\n",
        "#optimizer = torch.optim.SGD(lstm.parameters(), lr=learning_rate)L\n",
        "# Train the model\n",
        "Loss=[]\n",
        "for epoch in range(num_epochs):\n",
        "    outputs = lstm(trainX)\n",
        "    optimizer.zero_grad()\n",
        "    \n",
        "    # obtain the loss function\n",
        "    loss = criterion(outputs, trainY)\n",
        "    running_loss = loss.item()\n",
        "    loss.backward()\n",
        "    optimizer.step()\n",
        "    if epoch % 100 == 0:\n",
        "      Loss.append(running_loss)\n",
        "      print(\"Epoch: %d, loss: %1.5f\" % (epoch, loss.item()))\n",
        "Loss0 = np.array(Loss)"
      ],
      "metadata": {
        "id": "HF47cuz59fnr"
      },
      "execution_count": null,
      "outputs": []
    },
    {
      "cell_type": "code",
      "source": [
        "#4\n",
        "lstm.eval()              \n",
        "test_predictpkl = lstm(testX)\n",
        "\n",
        "test_predictpkl = test_predictpkl.data.numpy()\n",
        "\n",
        "test_predictpkl = sc.inverse_transform(test_predictpkl)\n",
        "testY_plotpkl = testY.data.numpy()\n",
        "testY_plotpkl = sc.inverse_transform(testY_plotpkl)\n",
        "#plt.axvline(x=train_size, c='r', linestyle='--')\n",
        "plt.plot(testY_plotpkl,color='blue',label='True Value')\n",
        "plt.plot(test_predictpkl,color='red',label='Predicted Value')\n",
        "plt.suptitle('LSTM Internet Traffic Prediction')\n",
        "leg = plt.legend(loc='best', ncol=1, fancybox=True)\n",
        "leg.get_frame().set_alpha(0.5)\n",
        "plt.show()\n",
        "#maml 10task epoch2000\n",
        "from math import sqrt\n",
        "\n",
        "from sklearn.metrics import mean_absolute_error\n",
        "\n",
        "from sklearn.metrics import mean_squared_error\n",
        "\n",
        "from sklearn.metrics import r2_score\n",
        "from sklearn.metrics import mean_absolute_percentage_error\n",
        "\n",
        "\n",
        "print(\"mean_absolute_error:\",mean_absolute_error(testY_plotpkl, test_predictpkl))\n",
        "\n",
        "print(\"mean_squared_error:\",mean_squared_error(testY_plotpkl,test_predictpkl))\n",
        "\n",
        "print(\"rmse:\",sqrt(mean_squared_error(testY_plotpkl, test_predictpkl)))\n",
        "\n",
        "print(\"r2 score:\",r2_score(testY_plotpkl, test_predictpkl))\n",
        "print(\"mape_sk\", mean_absolute_percentage_error(testY_plotpkl, test_predictpkl))"
      ],
      "metadata": {
        "id": "mBEvhPAD9or4"
      },
      "execution_count": null,
      "outputs": []
    },
    {
      "cell_type": "code",
      "source": [
        "import joblib\n",
        "joblib.dump(lstm,\"/content/gdrive/My Drive/re_thesis/re_thesis_test/model_test_2/lstm_0610.pkl\")\n",
        "joblib.dump(lstm,\"/content/gdrive/My Drive/re_thesis/re_thesis_test/model_test_2/lstm.pkl\")"
      ],
      "metadata": {
        "id": "kTQVnhCB9nOJ"
      },
      "execution_count": null,
      "outputs": []
    },
    {
      "cell_type": "code",
      "source": [
        "import joblib\n",
        "joblib.dump(lstm,\"/content/gdrive/My Drive/re_thesis/re_thesis_test/model_test_2/lstm.pkl\")"
      ],
      "metadata": {
        "id": "0zFHXKIBlC1z",
        "colab": {
          "base_uri": "https://localhost:8080/"
        },
        "outputId": "4e1eb78a-82bc-46cf-8a72-37606f06451c"
      },
      "execution_count": null,
      "outputs": [
        {
          "output_type": "execute_result",
          "data": {
            "text/plain": [
              "['/content/gdrive/My Drive/re_thesis/re_thesis_test/model_test_2/lstm.pkl']"
            ]
          },
          "metadata": {},
          "execution_count": 66
        }
      ]
    }
  ],
  "metadata": {
    "colab": {
      "collapsed_sections": [],
      "name": "LSTM ＿re_thesis",
      "provenance": []
    },
    "kernelspec": {
      "display_name": "Python 3",
      "name": "python3"
    },
    "language_info": {
      "name": "python"
    },
    "accelerator": "GPU"
  },
  "nbformat": 4,
  "nbformat_minor": 0
}
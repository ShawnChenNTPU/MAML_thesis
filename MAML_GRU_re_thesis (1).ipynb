{
  "cells": [
    {
      "cell_type": "code",
      "source": [
        "import numpy as np\n",
        "import matplotlib.pyplot as plt\n",
        "import math\n",
        "from sklearn.preprocessing import MinMaxScaler\n",
        "from sklearn.metrics import mean_squared_error\n",
        "from IPython.display import SVG\n",
        "from keras.utils.vis_utils import model_to_dot\n",
        "from google.colab import drive\n",
        "from array import array\n",
        "import pandas as pd\n",
        "import os\n",
        "import seaborn as sns\n",
        "drive.mount('/content/gdrive') # 此處需要登入google帳號 \n",
        "data = pd.read_csv(\"/content/gdrive/My Drive/thesis/thesisdataset/millan_average13_629_final.csv\") #讀取資料集1\n",
        "data.shape"
      ],
      "metadata": {
        "id": "EGHSVaFm5IEb"
      },
      "execution_count": null,
      "outputs": []
    },
    {
      "cell_type": "code",
      "source": [
        "data2 = pd.read_csv(\"/content/gdrive/My Drive/thesis/thesisdataset/taiwan_average37_83_final.csv\")#讀取資料集2\n",
        "data2.shape"
      ],
      "metadata": {
        "id": "CyJeD2OC5Hlb"
      },
      "execution_count": null,
      "outputs": []
    },
    {
      "cell_type": "code",
      "source": [
        "data3 = pd.read_csv(\"/content/gdrive/My Drive/thesis/thesisdataset/finland_average_47_786_final.csv\") #讀取資料集3\n",
        "data3.shape"
      ],
      "metadata": {
        "id": "dav-gnpp5JQ_"
      },
      "execution_count": null,
      "outputs": []
    },
    {
      "cell_type": "code",
      "source": [
        "!pip install learn2learn"
      ],
      "metadata": {
        "id": "JK_XqJEmBbWF"
      },
      "execution_count": null,
      "outputs": []
    },
    {
      "cell_type": "code",
      "source": [
        "!nvidia-smi\n",
        "!python -V"
      ],
      "metadata": {
        "id": "MzgDvyJN5ORT"
      },
      "execution_count": null,
      "outputs": []
    },
    {
      "cell_type": "code",
      "source": [
        "import torch\n",
        "print(torch.__version__)"
      ],
      "metadata": {
        "id": "14Rzc45D5RMz"
      },
      "execution_count": null,
      "outputs": []
    },
    {
      "cell_type": "code",
      "execution_count": null,
      "metadata": {
        "id": "-G6HNxymideM"
      },
      "outputs": [],
      "source": [
        "df = pd.DataFrame(data)\n",
        "dataset = df.internet.values.astype(float)"
      ]
    },
    {
      "cell_type": "code",
      "source": [
        "df2 = pd.DataFrame(data2)\n",
        "dataset2 = df2.load.values.astype(float)"
      ],
      "metadata": {
        "id": "WPcIcdUE93iY"
      },
      "execution_count": null,
      "outputs": []
    },
    {
      "cell_type": "code",
      "source": [
        "df4 = pd.DataFrame(data3)\n",
        "dataset4 = df4.Internet.values.astype(float)"
      ],
      "metadata": {
        "id": "Xh1gYsAgurPX"
      },
      "execution_count": null,
      "outputs": []
    },
    {
      "cell_type": "code",
      "source": [
        "dataset1000=np.append(dataset2, dataset4)"
      ],
      "metadata": {
        "id": "awZUErp59-4r"
      },
      "execution_count": null,
      "outputs": []
    },
    {
      "cell_type": "code",
      "source": [
        "dataset1000=np.append(dataset1000, dataset) #聚合三個資料集"
      ],
      "metadata": {
        "id": "7dTSCuIyvHNu"
      },
      "execution_count": null,
      "outputs": []
    },
    {
      "cell_type": "code",
      "source": [
        "dataset1000.shape"
      ],
      "metadata": {
        "id": "lYb_6e-85TeE"
      },
      "execution_count": null,
      "outputs": []
    },
    {
      "cell_type": "code",
      "execution_count": null,
      "metadata": {
        "id": "xSVIgZjf48pD"
      },
      "outputs": [],
      "source": [
        "\n",
        "dataset1000=dataset1000.reshape(-1,1)  #reshape以利放入模型\n",
        "dataset1000.shape"
      ]
    },
    {
      "cell_type": "code",
      "execution_count": null,
      "metadata": {
        "id": "ReG82s-misSg"
      },
      "outputs": [],
      "source": [
        "#訓練集測試集產生\n",
        "import numpy as np\n",
        "import matplotlib.pyplot as plt\n",
        "import pandas as pd\n",
        "import torch\n",
        "import torch.nn as nn\n",
        "from torch.autograd import Variable\n",
        "from sklearn.preprocessing import MinMaxScaler\n",
        "def sliding_windows(data, seq_length):\n",
        "    x = []\n",
        "    y = []\n",
        "\n",
        "    for i in range(len(data)-seq_length):\n",
        "        _x = data[i:(i+seq_length)]\n",
        "        _y = data[i+seq_length]\n",
        "        x.append(_x)\n",
        "        y.append(_y)\n",
        "\n",
        "    return np.array(x),np.array(y)\n",
        "\n",
        "sc = MinMaxScaler()\n",
        "dataset1000 = sc.fit_transform(dataset1000)\n",
        "\n",
        "seq_length = 1\n",
        "x, y = sliding_windows(dataset1000, seq_length)\n",
        "train_size = 1516090\n",
        "#test_size = 898761\n",
        "# train_size = int(len(y) * 0.6)\n",
        "test_size = len(y) - train_size\n",
        "\n",
        "dataX = Variable(torch.Tensor(np.array(x)))\n",
        "dataY = Variable(torch.Tensor(np.array(y)))\n",
        "\n",
        "trainX = Variable(torch.Tensor(np.array(x[0:train_size])))\n",
        "trainY = Variable(torch.Tensor(np.array(y[0:train_size])))\n",
        "\n",
        "testX = Variable(torch.Tensor(np.array(x[train_size:len(x)])))\n",
        "testY = Variable(torch.Tensor(np.array(y[train_size:len(y)])))"
      ]
    },
    {
      "cell_type": "code",
      "source": [
        "print(trainX.shape)\n",
        "print(trainY.shape)\n",
        "print(testX.shape)\n",
        "print(testY.shape)"
      ],
      "metadata": {
        "id": "ARrsL2GB5d98"
      },
      "execution_count": null,
      "outputs": []
    },
    {
      "cell_type": "code",
      "source": [
        "#形成元窗格\n",
        "trainX=trainX.reshape(10,151609,1,1)\n",
        "trainY=trainY.reshape(10,151609,1,1)"
      ],
      "metadata": {
        "id": "L_L66_h25guc"
      },
      "execution_count": null,
      "outputs": []
    },
    {
      "cell_type": "code",
      "source": [
        "print(trainX.shape)\n",
        "print(trainY.shape)\n",
        "print(testX.shape)\n",
        "print(testY.shape)"
      ],
      "metadata": {
        "id": "w3uLq63YkRgk"
      },
      "execution_count": null,
      "outputs": []
    },
    {
      "cell_type": "code",
      "execution_count": null,
      "metadata": {
        "id": "hXz37vSL5m9E"
      },
      "outputs": [],
      "source": [
        "#GRU宣告\n",
        "class GRUModel(nn.Module):\n",
        "    def __init__(self, input_dim, hidden_dim, layer_dim, output_dim, dropout_prob):\n",
        "        super(GRUModel, self).__init__()\n",
        "\n",
        "        # Defining the number of layers and the nodes in each layer\n",
        "        self.layer_dim = layer_dim\n",
        "        self.hidden_dim = hidden_dim\n",
        "\n",
        "        # GRU layers\n",
        "        self.gru = nn.GRU(\n",
        "            input_dim, hidden_dim, layer_dim, batch_first=True, dropout=dropout_prob\n",
        "        )\n",
        "\n",
        "        # Fully connected layer\n",
        "        self.fc = nn.Linear(hidden_dim, output_dim)\n",
        "\n",
        "    def forward(self, x):\n",
        "        # Initializing hidden state for first input with zeros\n",
        "        h0 = torch.zeros(self.layer_dim, x.size(0), self.hidden_dim).requires_grad_()\n",
        "\n",
        "        # Forward propagation by passing in the input and hidden state into the model\n",
        "        out, _ = self.gru(x, h0.detach())\n",
        "\n",
        "        # Reshaping the outputs in the shape of (batch_size, seq_length, hidden_size)\n",
        "        # so that it can fit into the fully connected layer\n",
        "        out = out[:, -1, :]\n",
        "\n",
        "        # Convert the final state to our desired output shape (batch_size, output_dim)\n",
        "        out = self.fc(out)\n",
        "\n",
        "        return out"
      ]
    },
    {
      "cell_type": "code",
      "source": [
        "torch.manual_seed(6)\n",
        "\n",
        "seed=6\n",
        "\n",
        "random.seed(seed)\n",
        "np.random.seed(seed)\n",
        "if torch.cuda.is_available():\n",
        "    torch.cuda.manual_seed_all(seed)\n",
        "\n",
        "torch.manual_seed(seed)\n",
        "torch.cuda.manual_seed(seed)\n",
        "torch.cuda.manual_seed_all(seed)\n",
        "\n",
        "# Remove randomness (may be slower on Tesla GPUs) \n",
        "# https://pytorch.org/docs/stable/notes/randomness.html\n",
        "if seed ==6 :\n",
        "    torch.backends.cudnn.deterministic = True\n",
        "    torch.backends.cudnn.benchmark = False"
      ],
      "metadata": {
        "id": "LSx3yrFTlY2I"
      },
      "execution_count": null,
      "outputs": []
    },
    {
      "cell_type": "code",
      "source": [
        "#訓練過程\n",
        "import torch\n",
        "import torch.nn as nn\n",
        "import torch.nn.functional as F\n",
        "import torch.optim as optim\n",
        "import learn2learn as l2l\n",
        "epochs = 1000\n",
        "learning_rate = 0.01\n",
        "meta_learning_rate = 0.01\n",
        "adaptation_steps = 1\n",
        "input_dim = 1\n",
        "hidden_dim = 2\n",
        "layer_dim = 1  # ONLY CHANGE IS HERE FROM ONE LAYER TO TWO LAYER\n",
        "output_dim = 1\n",
        "dropout = 0.2\n",
        "encoder = GRUModel(input_dim, hidden_dim, layer_dim, output_dim, dropout)\n",
        "output_layer = nn.Linear(1, 1)\n",
        "maml = l2l.algorithms.MAML(output_layer, lr=learning_rate, first_order=False)\n",
        "opt = optim.Adam(list(maml.parameters()) + list(encoder.parameters()), lr=meta_learning_rate)\n",
        "loss_fn = torch.nn.MSELoss()\n",
        "for iteration in range(epochs):\n",
        "    opt.zero_grad()\n",
        "    iteration_error = 0.0\n",
        "    for task in range(9):\n",
        "        learner = maml.clone()\n",
        "        x_spt = trainX[task]\n",
        "        y_spt = trainY[task]\n",
        "        x_qry = trainX[task+1]\n",
        "        y_qry = trainY[task+1]\n",
        "        # Fast adapt\n",
        "        for _ in range(adaptation_steps):\n",
        "            pred = learner(encoder(x_spt))\n",
        "            error = loss_fn(pred, y_spt)\n",
        "            learner.adapt(error)\n",
        "            print(\"Epoch: %d, Task: %d, loss: %1.5f\" % (iteration, task, error.item()))\n",
        "\n",
        "        pred = learner(encoder(x_qry))\n",
        "        evaluation_error = loss_fn(pred, y_qry)\n",
        "        print(evaluation_error)\n",
        "        iteration_error += evaluation_error\n",
        "    # Meta-update the model parameters\n",
        "    iteration_error /= 10\n",
        "    print(iteration_error)\n",
        "    iteration_error.backward()   \n",
        "    opt.step()\n"
      ],
      "metadata": {
        "id": "16yUCCxi5ldY"
      },
      "execution_count": null,
      "outputs": []
    },
    {
      "cell_type": "code",
      "source": [
        "#結果測試\n",
        "learner.eval()\n",
        "test_predict = learner(encoder(testX))\n",
        "test_predict = test_predict.data.numpy()\n",
        "testY_plot = testY.data.numpy()\n",
        "#data_predict=data_predict.reshape(1, -1)\n",
        "test_predict = sc.inverse_transform(test_predict)\n",
        "testY_plot = sc.inverse_transform(testY_plot)\n",
        "\n",
        "#plt.axvline(x=train_size, c='r', linestyle='--')\n",
        "\n",
        "plt.plot(testY_plot)\n",
        "plt.plot(test_predict)\n",
        "plt.suptitle('Time-Series Prediction')\n",
        "plt.show()\n",
        "import math\n",
        "testScore = math.sqrt(mean_squared_error(testY_plot, test_predict))\n",
        "print('Train Score: %.2f RMSE' % (testScore))\n",
        "#testScore = math.sqrt(mean_squared_error(testY, test_predict))\n",
        "#print('Test Score: %.2f RMSE' % (testScore))\n",
        "from math import sqrt\n",
        "\n",
        "from sklearn.metrics import mean_absolute_error\n",
        "\n",
        "from sklearn.metrics import mean_squared_error\n",
        "\n",
        "from sklearn.metrics import r2_score\n",
        "from sklearn.metrics import mean_absolute_percentage_error\n",
        "\n",
        "print(\"mean_absolute_error:\",mean_absolute_error(testY_plot, test_predict))\n",
        "\n",
        "print(\"mean_squared_error:\",mean_squared_error(testY_plot, test_predict))\n",
        "\n",
        "print(\"rmse:\",sqrt(mean_squared_error(testY_plot, test_predict)))\n",
        "\n",
        "print(\"r2 score:\",r2_score(testY_plot, test_predict))\n",
        "print(\"mape_sk\", mean_absolute_percentage_error(testY_plot, test_predict))"
      ],
      "metadata": {
        "id": "lLLmi3qQzx0t"
      },
      "execution_count": null,
      "outputs": []
    },
    {
      "cell_type": "code",
      "source": [
        "#儲存模型\n",
        "import joblib\n",
        "joblib.dump(learner,\"/content/gdrive/My Drive/re_thesis/grulearner.pkl\")\n",
        "joblib.dump(encoder,\"/content/gdrive/My Drive/re_thesis/gruencoder.pkl\")"
      ],
      "metadata": {
        "colab": {
          "base_uri": "https://localhost:8080/"
        },
        "id": "mDx0nJPMRXIS",
        "outputId": "fec4f931-ce70-4fef-8355-63847077d17c"
      },
      "execution_count": null,
      "outputs": [
        {
          "output_type": "execute_result",
          "data": {
            "text/plain": [
              "['/content/gdrive/My Drive/re_thesis/gruencoder.pkl']"
            ]
          },
          "metadata": {},
          "execution_count": 25
        }
      ]
    },
    {
      "cell_type": "code",
      "source": [
        ""
      ],
      "metadata": {
        "id": "Im0iORM3bvoJ"
      },
      "execution_count": null,
      "outputs": []
    }
  ],
  "metadata": {
    "colab": {
      "collapsed_sections": [],
      "machine_shape": "hm",
      "name": "MAML-GRU_re_thesis",
      "provenance": []
    },
    "kernelspec": {
      "display_name": "Python 3",
      "name": "python3"
    },
    "language_info": {
      "name": "python"
    },
    "accelerator": "GPU"
  },
  "nbformat": 4,
  "nbformat_minor": 0
}
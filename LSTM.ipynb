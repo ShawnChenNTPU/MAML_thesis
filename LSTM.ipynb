{
  "cells": [
    {
      "cell_type": "code",
      "execution_count": null,
      "metadata": {
        "colab": {
          "base_uri": "https://localhost:8080/"
        },
        "id": "ijZFtBJPgqkU",
        "outputId": "3db23186-bf98-4f22-d561-8dc08fab7b02"
      },
      "outputs": [
        {
          "output_type": "stream",
          "name": "stdout",
          "text": [
            "Drive already mounted at /content/gdrive; to attempt to forcibly remount, call drive.mount(\"/content/gdrive\", force_remount=True).\n"
          ]
        },
        {
          "output_type": "execute_result",
          "data": {
            "text/plain": [
              "(1679994, 3)"
            ]
          },
          "metadata": {},
          "execution_count": 2
        }
      ],
      "source": [
        "import numpy as np\n",
        "import matplotlib.pyplot as plt\n",
        "import math\n",
        "from sklearn.preprocessing import MinMaxScaler\n",
        "from sklearn.metrics import mean_squared_error\n",
        "from IPython.display import SVG\n",
        "from keras.utils.vis_utils import model_to_dot\n",
        "from google.colab import drive\n",
        "from array import array\n",
        "import pandas as pd\n",
        "import os\n",
        "import seaborn as sns\n",
        "drive.mount('/content/gdrive') # 此處需要登入google帳號\n",
        "data = pd.read_csv(\"/content/gdrive/My Drive/thesis/thesisdataset/millan_average7_396.csv\")\n",
        "data.shape"
      ]
    },
    {
      "cell_type": "code",
      "execution_count": null,
      "metadata": {
        "colab": {
          "base_uri": "https://localhost:8080/"
        },
        "id": "GrtJQiMN3V1R",
        "outputId": "2f75cc04-3d5a-4658-9dc1-c30c3b3dc087"
      },
      "outputs": [
        {
          "output_type": "execute_result",
          "data": {
            "text/plain": [
              "(1296000, 7)"
            ]
          },
          "metadata": {},
          "execution_count": 3
        }
      ],
      "source": [
        "data2 = pd.read_csv(\"/content/gdrive/My Drive/thesis/thesisdataset/germany_average3_41.csv\")\n",
        "data2.shape"
      ]
    },
    {
      "cell_type": "code",
      "source": [
        "data3 = pd.read_csv(\"/content/gdrive/My Drive/thesis/thesisdataset/uk_data_average5_69_v1.csv\")\n",
        "data3.shape"
      ],
      "metadata": {
        "colab": {
          "base_uri": "https://localhost:8080/"
        },
        "id": "BSSz49R9c70f",
        "outputId": "2fed2e3d-5ad8-41d9-f09e-956e0f53ada0"
      },
      "execution_count": null,
      "outputs": [
        {
          "output_type": "execute_result",
          "data": {
            "text/plain": [
              "(19888, 2)"
            ]
          },
          "metadata": {},
          "execution_count": 4
        }
      ]
    },
    {
      "cell_type": "code",
      "execution_count": null,
      "metadata": {
        "colab": {
          "base_uri": "https://localhost:8080/"
        },
        "id": "22Scuob05NSM",
        "outputId": "f2a7df54-9b42-48db-824c-b33510c72649"
      },
      "outputs": [
        {
          "output_type": "stream",
          "name": "stdout",
          "text": [
            "Mon May 23 03:30:30 2022       \n",
            "+-----------------------------------------------------------------------------+\n",
            "| NVIDIA-SMI 460.32.03    Driver Version: 460.32.03    CUDA Version: 11.2     |\n",
            "|-------------------------------+----------------------+----------------------+\n",
            "| GPU  Name        Persistence-M| Bus-Id        Disp.A | Volatile Uncorr. ECC |\n",
            "| Fan  Temp  Perf  Pwr:Usage/Cap|         Memory-Usage | GPU-Util  Compute M. |\n",
            "|                               |                      |               MIG M. |\n",
            "|===============================+======================+======================|\n",
            "|   0  Tesla P100-PCIE...  Off  | 00000000:00:04.0 Off |                    0 |\n",
            "| N/A   31C    P0    27W / 250W |      0MiB / 16280MiB |      0%      Default |\n",
            "|                               |                      |                  N/A |\n",
            "+-------------------------------+----------------------+----------------------+\n",
            "                                                                               \n",
            "+-----------------------------------------------------------------------------+\n",
            "| Processes:                                                                  |\n",
            "|  GPU   GI   CI        PID   Type   Process name                  GPU Memory |\n",
            "|        ID   ID                                                   Usage      |\n",
            "|=============================================================================|\n",
            "|  No running processes found                                                 |\n",
            "+-----------------------------------------------------------------------------+\n"
          ]
        }
      ],
      "source": [
        "!nvidia-smi"
      ]
    },
    {
      "cell_type": "code",
      "execution_count": null,
      "metadata": {
        "id": "-G6HNxymideM"
      },
      "outputs": [],
      "source": [
        "df = pd.DataFrame(data)\n",
        "dataset = df.internet.values.astype(float)"
      ]
    },
    {
      "cell_type": "code",
      "execution_count": null,
      "metadata": {
        "id": "dIFXDSJn4OR_"
      },
      "outputs": [],
      "source": [
        "df2 = pd.DataFrame(data2)\n",
        "dataset2 = df2.load.values.astype(float)"
      ]
    },
    {
      "cell_type": "code",
      "source": [
        "df3 = pd.DataFrame(data3)\n",
        "dataset3 = df3.internet.values.astype(float)"
      ],
      "metadata": {
        "id": "gNfgwNtVdVgP"
      },
      "execution_count": null,
      "outputs": []
    },
    {
      "cell_type": "code",
      "execution_count": null,
      "metadata": {
        "id": "by9uRhPK4XYy"
      },
      "outputs": [],
      "source": [
        "dataset1000=np.append(dataset2, dataset3)\n",
        "dataset1000=np.append(dataset1000, dataset)"
      ]
    },
    {
      "cell_type": "code",
      "execution_count": null,
      "metadata": {
        "colab": {
          "base_uri": "https://localhost:8080/"
        },
        "id": "EH78Petw4h9E",
        "outputId": "66fe123d-cd59-41ed-eda9-0bda0a2422ac"
      },
      "outputs": [
        {
          "output_type": "execute_result",
          "data": {
            "text/plain": [
              "(2995882,)"
            ]
          },
          "metadata": {},
          "execution_count": 10
        }
      ],
      "source": [
        "dataset1000.shape"
      ]
    },
    {
      "cell_type": "code",
      "source": [
        "dataset1000"
      ],
      "metadata": {
        "colab": {
          "base_uri": "https://localhost:8080/"
        },
        "id": "nf40S59v0QHr",
        "outputId": "2849024c-eff4-4205-b88b-a6ed8b6de56e"
      },
      "execution_count": null,
      "outputs": [
        {
          "output_type": "execute_result",
          "data": {
            "text/plain": [
              "array([[0.0014237 ],\n",
              "       [0.00455975],\n",
              "       [0.01509594],\n",
              "       ...,\n",
              "       [0.00519959],\n",
              "       [0.00440306],\n",
              "       [0.00418464]])"
            ]
          },
          "metadata": {},
          "execution_count": 17
        }
      ]
    },
    {
      "cell_type": "code",
      "execution_count": null,
      "metadata": {
        "colab": {
          "base_uri": "https://localhost:8080/"
        },
        "id": "G0Y18hDI4npC",
        "outputId": "33081063-ed16-4ba9-d5da-40bd1729aaae"
      },
      "outputs": [
        {
          "output_type": "execute_result",
          "data": {
            "text/plain": [
              "(2995882, 1)"
            ]
          },
          "metadata": {},
          "execution_count": 19
        }
      ],
      "source": [
        "dataset1000.shape"
      ]
    },
    {
      "cell_type": "code",
      "execution_count": null,
      "metadata": {
        "id": "xSVIgZjf48pD"
      },
      "outputs": [],
      "source": [
        "dataset1000=dataset1000.reshape(-1,1)"
      ]
    },
    {
      "cell_type": "code",
      "execution_count": null,
      "metadata": {
        "colab": {
          "base_uri": "https://localhost:8080/"
        },
        "id": "wPsSWiFF5J4d",
        "outputId": "17a778ac-5632-4a6b-d217-3a1340294613"
      },
      "outputs": [
        {
          "output_type": "execute_result",
          "data": {
            "text/plain": [
              "(2995882, 1)"
            ]
          },
          "metadata": {},
          "execution_count": 21
        }
      ],
      "source": [
        "dataset1000.shape"
      ]
    },
    {
      "cell_type": "code",
      "execution_count": null,
      "metadata": {
        "id": "e44j-Ux74Mgp"
      },
      "outputs": [],
      "source": [
        "import numpy as np\n",
        "import matplotlib.pyplot as plt\n",
        "import pandas as pd\n",
        "import torch\n",
        "import torch.nn as nn\n",
        "from torch.autograd import Variable\n",
        "from sklearn.preprocessing import MinMaxScaler\n",
        "def sliding_windows(data, seq_length):\n",
        "    x = []\n",
        "    y = []\n",
        "\n",
        "    for i in range(len(data)-1):\n",
        "        _x = data[i:(i+seq_length)]\n",
        "        _y = data[i+seq_length]\n",
        "        x.append(_x)\n",
        "        y.append(_y)\n",
        "\n",
        "    return np.array(x),np.array(y)\n",
        "\n",
        "sc = MinMaxScaler()\n",
        "dataset1000 = sc.fit_transform(dataset1000)\n",
        "\n",
        "seq_length = 1\n",
        "x, y = sliding_windows(dataset1000, seq_length)\n",
        "train_size = 2097000\n",
        "# test_size = 898761\n",
        "#train_size = int(len(y) * 0.7)\n",
        "test_size = len(y) - train_size\n",
        "\n",
        "dataX = Variable(torch.Tensor(np.array(x)))\n",
        "dataY = Variable(torch.Tensor(np.array(y)))\n",
        "\n",
        "trainX = Variable(torch.Tensor(np.array(x[0:train_size])))\n",
        "trainY = Variable(torch.Tensor(np.array(y[0:train_size])))\n",
        "\n",
        "testX = Variable(torch.Tensor(np.array(x[train_size:len(x)])))\n",
        "testY = Variable(torch.Tensor(np.array(y[train_size:len(y)])))"
      ]
    },
    {
      "cell_type": "code",
      "execution_count": null,
      "metadata": {
        "id": "RS9DffJfuih-"
      },
      "outputs": [],
      "source": [
        ""
      ]
    },
    {
      "cell_type": "code",
      "execution_count": null,
      "metadata": {
        "colab": {
          "base_uri": "https://localhost:8080/"
        },
        "id": "U_BjuNhotwGS",
        "outputId": "ce79459b-8362-4639-ce55-0a93ac2698a9"
      },
      "outputs": [
        {
          "output_type": "stream",
          "name": "stdout",
          "text": [
            "torch.Size([2097000, 1, 1])\n"
          ]
        }
      ],
      "source": [
        "print(trainX.shape)"
      ]
    },
    {
      "cell_type": "code",
      "execution_count": null,
      "metadata": {
        "colab": {
          "base_uri": "https://localhost:8080/"
        },
        "id": "tHBK6OSqt36T",
        "outputId": "ebf0dd83-a812-4968-dfb8-b108dc39c59a"
      },
      "outputs": [
        {
          "output_type": "stream",
          "name": "stdout",
          "text": [
            "torch.Size([2097000, 1])\n"
          ]
        }
      ],
      "source": [
        "print(trainY.shape)"
      ]
    },
    {
      "cell_type": "code",
      "execution_count": null,
      "metadata": {
        "colab": {
          "base_uri": "https://localhost:8080/"
        },
        "id": "Gnz2zy7lt5wi",
        "outputId": "e5e5ff94-e457-4975-d8ae-93358daf5776"
      },
      "outputs": [
        {
          "output_type": "stream",
          "name": "stdout",
          "text": [
            "torch.Size([898881, 1, 1])\n"
          ]
        }
      ],
      "source": [
        "print(testX.shape)"
      ]
    },
    {
      "cell_type": "code",
      "execution_count": null,
      "metadata": {
        "colab": {
          "base_uri": "https://localhost:8080/"
        },
        "id": "A_eUuhO5t77V",
        "outputId": "704f18d0-842f-4652-8111-296b0e43e990"
      },
      "outputs": [
        {
          "output_type": "stream",
          "name": "stdout",
          "text": [
            "torch.Size([898881, 1])\n"
          ]
        }
      ],
      "source": [
        "print(testY.shape)"
      ]
    },
    {
      "cell_type": "code",
      "source": [
        "print(testX.shape)\n",
        "print(testY.shape)"
      ],
      "metadata": {
        "colab": {
          "base_uri": "https://localhost:8080/"
        },
        "id": "Gr-cDXm0RdPL",
        "outputId": "b212f76f-675c-490f-921a-6a31be126a88"
      },
      "execution_count": null,
      "outputs": [
        {
          "output_type": "stream",
          "name": "stdout",
          "text": [
            "torch.Size([898881, 1, 1])\n",
            "torch.Size([898881, 1])\n"
          ]
        }
      ]
    },
    {
      "cell_type": "code",
      "source": [
        "testX=testX.reshape(898881,1,1)\n",
        "testY=testY.reshape(898881,1)"
      ],
      "metadata": {
        "id": "bdQosatxRfKW"
      },
      "execution_count": null,
      "outputs": []
    },
    {
      "cell_type": "code",
      "execution_count": null,
      "metadata": {
        "id": "hXz37vSL5m9E"
      },
      "outputs": [],
      "source": [
        "class LSTM(nn.Module):\n",
        "\n",
        "    def __init__(self, num_classes, input_size, hidden_size, num_layers):\n",
        "        super(LSTM, self).__init__()\n",
        "        \n",
        "        self.num_classes = num_classes\n",
        "        self.num_layers = num_layers\n",
        "        self.input_size = input_size\n",
        "        self.hidden_size = hidden_size\n",
        "        self.seq_length = seq_length\n",
        "        \n",
        "        self.lstm = nn.LSTM(input_size=input_size, hidden_size=hidden_size,\n",
        "                            num_layers=num_layers, batch_first=True)\n",
        "        \n",
        "        self.fc = nn.Linear(hidden_size, num_classes)\n",
        "\n",
        "    def forward(self, x):\n",
        "        h_0 = Variable(torch.zeros(\n",
        "            self.num_layers, x.size(0), self.hidden_size))\n",
        "        \n",
        "        c_0 = Variable(torch.zeros(\n",
        "            self.num_layers, x.size(0), self.hidden_size))\n",
        "        \n",
        "        # Propagate input through LSTM\n",
        "        ula, (h_out, _) = self.lstm(x, (h_0, c_0))\n",
        "        \n",
        "        h_out = h_out.view(-1, self.hidden_size)\n",
        "        \n",
        "        out = self.fc(h_out)\n",
        "        \n",
        "        return out"
      ]
    },
    {
      "cell_type": "code",
      "execution_count": null,
      "metadata": {
        "colab": {
          "base_uri": "https://localhost:8080/"
        },
        "id": "FB89vx2-5qt9",
        "outputId": "920acc58-4849-45c5-868f-014b6551516e"
      },
      "outputs": [
        {
          "output_type": "stream",
          "name": "stdout",
          "text": [
            "Epoch: 0, loss: 0.12591\n",
            "Epoch: 100, loss: 0.00012\n",
            "Epoch: 200, loss: 0.00011\n",
            "Epoch: 300, loss: 0.00010\n",
            "Epoch: 400, loss: 0.00010\n",
            "Epoch: 500, loss: 0.00009\n",
            "Epoch: 600, loss: 0.00009\n",
            "Epoch: 700, loss: 0.00008\n",
            "Epoch: 800, loss: 0.00008\n",
            "Epoch: 900, loss: 0.00008\n",
            "Epoch: 1000, loss: 0.00008\n",
            "Epoch: 1100, loss: 0.00008\n",
            "Epoch: 1200, loss: 0.00007\n",
            "Epoch: 1300, loss: 0.00007\n",
            "Epoch: 1400, loss: 0.00007\n",
            "Epoch: 1500, loss: 0.00007\n",
            "Epoch: 1600, loss: 0.00007\n",
            "Epoch: 1700, loss: 0.00007\n",
            "Epoch: 1800, loss: 0.00007\n",
            "Epoch: 1900, loss: 0.00007\n"
          ]
        }
      ],
      "source": [
        "num_epochs = 2000\n",
        "learning_rate = 0.01\n",
        "\n",
        "input_size = 1\n",
        "hidden_size = 2\n",
        "num_layers = 1\n",
        "\n",
        "num_classes = 1\n",
        "\n",
        "lstm = LSTM(num_classes, input_size, hidden_size, num_layers)\n",
        "\n",
        "criterion = torch.nn.MSELoss()    # mean-squared error for regression\n",
        "optimizer = torch.optim.Adam(lstm.parameters(), lr=learning_rate)\n",
        "#optimizer = torch.optim.SGD(lstm.parameters(), lr=learning_rate)L\n",
        "# Train the model\n",
        "Loss=[]\n",
        "for epoch in range(num_epochs):\n",
        "    outputs = lstm(trainX)\n",
        "    optimizer.zero_grad()\n",
        "    \n",
        "    # obtain the loss function\n",
        "    loss = criterion(outputs, trainY)\n",
        "    running_loss = loss.item()\n",
        "    loss.backward()\n",
        "    optimizer.step()\n",
        "    if epoch % 100 == 0:\n",
        "      Loss.append(running_loss)\n",
        "      print(\"Epoch: %d, loss: %1.5f\" % (epoch, loss.item()))\n",
        "Loss0 = np.array(Loss)"
      ]
    },
    {
      "cell_type": "code",
      "source": [
        "joblib.dump(lstm,\"/content/gdrive/My Drive/thesis/lstm0402.pkl\")"
      ],
      "metadata": {
        "id": "rXVlq4VclmvI",
        "outputId": "b0b14a84-7bc7-47c2-b372-2998ef868d89",
        "colab": {
          "base_uri": "https://localhost:8080/"
        }
      },
      "execution_count": null,
      "outputs": [
        {
          "output_type": "execute_result",
          "data": {
            "text/plain": [
              "['/content/gdrive/My Drive/thesis/lstm0402.pkl']"
            ]
          },
          "metadata": {},
          "execution_count": 58
        }
      ]
    },
    {
      "cell_type": "code",
      "execution_count": null,
      "metadata": {
        "colab": {
          "base_uri": "https://localhost:8080/"
        },
        "id": "L9ozVjgaWhJP",
        "outputId": "169b0230-b973-4cdb-aef9-f569cf85933a"
      },
      "outputs": [
        {
          "output_type": "stream",
          "name": "stdout",
          "text": [
            "mean_absolute_error: 3.235951\n",
            "mean_squared_error: 35.566257\n",
            "rmse: 5.9637452558611725\n",
            "r2 score: 0.7047958506159802\n",
            "mape_sk 141221450000.0\n"
          ]
        }
      ],
      "source": [
        "from math import sqrt\n",
        "\n",
        "from sklearn.metrics import mean_absolute_error\n",
        "\n",
        "from sklearn.metrics import mean_squared_error\n",
        "\n",
        "from sklearn.metrics import r2_score\n",
        "from sklearn.metrics import mean_absolute_percentage_error\n",
        "\n",
        "\n",
        "print(\"mean_absolute_error:\",mean_absolute_error(dataY_plot, data_predict))\n",
        "\n",
        "print(\"mean_squared_error:\",mean_squared_error(dataY_plot, data_predict))\n",
        "\n",
        "print(\"rmse:\",sqrt(mean_squared_error(dataY_plot, data_predict)))\n",
        "\n",
        "print(\"r2 score:\",r2_score(dataY_plot, data_predict))\n",
        "print(\"mape_sk\", mean_absolute_percentage_error(dataY_plot, data_predict))"
      ]
    },
    {
      "cell_type": "code",
      "execution_count": null,
      "metadata": {
        "colab": {
          "base_uri": "https://localhost:8080/",
          "height": 294
        },
        "id": "8rfYk0sb6RDR",
        "outputId": "1540612f-3afe-4728-8d1a-58659964c073"
      },
      "outputs": [
        {
          "output_type": "display_data",
          "data": {
            "text/plain": [
              "<Figure size 432x288 with 1 Axes>"
            ],
            "image/png": "[encoded data removed]"
          },
          "metadata": {
            "needs_background": "light"
          }
        }
      ],
      "source": [
        "#V seq=1 168000\n",
        "lstm.eval()\n",
        "test_predict = lstm(testX)\n",
        "\n",
        "test_predict = test_predict.data.numpy()\n",
        "testY_plot = testY.data.numpy()\n",
        "\n",
        "test_predict = sc.inverse_transform(test_predict)\n",
        "testY_plot = sc.inverse_transform(testY_plot)\n",
        "\n",
        "#plt.axvline(x=train_size, c='r', linestyle='--')\n",
        "\n",
        "plt.plot(testY_plot)\n",
        "plt.plot(test_predict)\n",
        "plt.suptitle('Time-Series Prediction')\n",
        "plt.show()"
      ]
    },
    {
      "cell_type": "code",
      "execution_count": null,
      "metadata": {
        "colab": {
          "base_uri": "https://localhost:8080/"
        },
        "id": "8PNQPooX6mSr",
        "outputId": "30d29df1-1d34-41f4-ced1-a8564e7cf0a2"
      },
      "outputs": [
        {
          "output_type": "stream",
          "name": "stdout",
          "text": [
            "mean_absolute_error: 3.8686788\n",
            "mean_squared_error: 85.017525\n",
            "rmse: 9.220494819652483\n",
            "r2 score: 0.7015686309063682\n",
            "mape_sk 542698200000.0\n"
          ]
        }
      ],
      "source": [
        "from math import sqrt\n",
        "\n",
        "from sklearn.metrics import mean_absolute_error\n",
        "\n",
        "from sklearn.metrics import mean_squared_error\n",
        "\n",
        "from sklearn.metrics import r2_score\n",
        "from sklearn.metrics import mean_absolute_percentage_error\n",
        "\n",
        "\n",
        "print(\"mean_absolute_error:\",mean_absolute_error(testY_plot, test_predict))\n",
        "\n",
        "print(\"mean_squared_error:\",mean_squared_error(testY_plot, test_predict))\n",
        "\n",
        "print(\"rmse:\",sqrt(mean_squared_error(testY_plot, test_predict)))\n",
        "\n",
        "print(\"r2 score:\",r2_score(testY_plot, test_predict))\n",
        "print(\"mape_sk\", mean_absolute_percentage_error(testY_plot, test_predict))"
      ]
    },
    {
      "cell_type": "code",
      "source": [
        "testY_plot_df.to_csv('/content/gdrive/My Drive/thesis/testY_plot_df_64.csv',index=False)"
      ],
      "metadata": {
        "id": "wIrkwvQVaIix"
      },
      "execution_count": null,
      "outputs": []
    },
    {
      "cell_type": "code",
      "source": [
        "test_predict_lstm=test_predict.astype(np.float64)\n",
        "test_predict_lstm_df=pd.DataFrame(test_predict_lstm)\n",
        "test_predict_lstm_df.to_csv('/content/gdrive/My Drive/thesis/test_predict_lstm_df_64.csv',index=False)"
      ],
      "metadata": {
        "id": "73ldH3Ibaamh"
      },
      "execution_count": null,
      "outputs": []
    },
    {
      "cell_type": "code",
      "source": [
        ""
      ],
      "metadata": {
        "id": "TOOSlu5MbILc"
      },
      "execution_count": null,
      "outputs": []
    },
    {
      "cell_type": "code",
      "source": [
        "dfprediction = pd.read_csv('/content/gdrive/My Drive/thesis/dfprediction0402_2.csv')\n",
        "dfprediction.shape"
      ],
      "metadata": {
        "id": "kb6PzSJ49NQr",
        "colab": {
          "base_uri": "https://localhost:8080/"
        },
        "outputId": "70216491-ac38-457c-e6e4-718f544fbc3d"
      },
      "execution_count": null,
      "outputs": [
        {
          "output_type": "execute_result",
          "data": {
            "text/plain": [
              "(898760, 1)"
            ]
          },
          "metadata": {},
          "execution_count": 29
        }
      ]
    }
  ],
  "metadata": {
    "colab": {
      "collapsed_sections": [],
      "name": "LSTM",
      "provenance": []
    },
    "kernelspec": {
      "display_name": "Python 3",
      "name": "python3"
    },
    "language_info": {
      "name": "python"
    },
    "accelerator": "GPU"
  },
  "nbformat": 4,
  "nbformat_minor": 0
}
